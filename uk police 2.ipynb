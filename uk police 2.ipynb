{
 "cells": [
  {
   "cell_type": "code",
   "execution_count": 28,
   "metadata": {},
   "outputs": [],
   "source": [
    "import matplotlib.pyplot as plt\n",
    "import pandas as pd\n",
    "import seaborn as sns\n",
    "import numpy as np\n",
    "%matplotlib inline\n",
    "plt.style.use('classic')"
   ]
  },
  {
   "cell_type": "code",
   "execution_count": 29,
   "metadata": {},
   "outputs": [
    {
     "data": {
      "text/html": [
       "<div>\n",
       "<style scoped>\n",
       "    .dataframe tbody tr th:only-of-type {\n",
       "        vertical-align: middle;\n",
       "    }\n",
       "\n",
       "    .dataframe tbody tr th {\n",
       "        vertical-align: top;\n",
       "    }\n",
       "\n",
       "    .dataframe thead th {\n",
       "        text-align: right;\n",
       "    }\n",
       "</style>\n",
       "<table border=\"1\" class=\"dataframe\">\n",
       "  <thead>\n",
       "    <tr style=\"text-align: right;\">\n",
       "      <th></th>\n",
       "      <th>Type</th>\n",
       "      <th>Date</th>\n",
       "      <th>Part of a policing operation</th>\n",
       "      <th>Policing operation</th>\n",
       "      <th>Latitude</th>\n",
       "      <th>Longitude</th>\n",
       "      <th>Gender</th>\n",
       "      <th>Age range</th>\n",
       "      <th>Self-defined ethnicity</th>\n",
       "      <th>Officer-defined ethnicity</th>\n",
       "      <th>Legislation</th>\n",
       "      <th>Object of search</th>\n",
       "      <th>Outcome</th>\n",
       "      <th>Outcome linked to object of search</th>\n",
       "      <th>Removal of more than just outer clothing</th>\n",
       "    </tr>\n",
       "  </thead>\n",
       "  <tbody>\n",
       "    <tr>\n",
       "      <th>0</th>\n",
       "      <td>Person search</td>\n",
       "      <td>2020-07-01T02:16:55+00:00</td>\n",
       "      <td>NaN</td>\n",
       "      <td>NaN</td>\n",
       "      <td>51.517196</td>\n",
       "      <td>-0.085149</td>\n",
       "      <td>Male</td>\n",
       "      <td>18-24</td>\n",
       "      <td>Other ethnic group - Not stated</td>\n",
       "      <td>White</td>\n",
       "      <td>Misuse of Drugs Act 1971 (section 23)</td>\n",
       "      <td>Controlled drugs</td>\n",
       "      <td>A no further action disposal</td>\n",
       "      <td>False</td>\n",
       "      <td>False</td>\n",
       "    </tr>\n",
       "    <tr>\n",
       "      <th>1</th>\n",
       "      <td>Person search</td>\n",
       "      <td>2020-07-01T02:16:55+00:00</td>\n",
       "      <td>NaN</td>\n",
       "      <td>NaN</td>\n",
       "      <td>51.517196</td>\n",
       "      <td>-0.085149</td>\n",
       "      <td>Male</td>\n",
       "      <td>18-24</td>\n",
       "      <td>Other ethnic group - Not stated</td>\n",
       "      <td>White</td>\n",
       "      <td>Misuse of Drugs Act 1971 (section 23)</td>\n",
       "      <td>Controlled drugs</td>\n",
       "      <td>A no further action disposal</td>\n",
       "      <td>False</td>\n",
       "      <td>False</td>\n",
       "    </tr>\n",
       "    <tr>\n",
       "      <th>2</th>\n",
       "      <td>Person and Vehicle search</td>\n",
       "      <td>2020-07-01T03:10:05+00:00</td>\n",
       "      <td>NaN</td>\n",
       "      <td>NaN</td>\n",
       "      <td>51.512117</td>\n",
       "      <td>-0.102411</td>\n",
       "      <td>Female</td>\n",
       "      <td>over 34</td>\n",
       "      <td>White - English/Welsh/Scottish/Northern Irish/...</td>\n",
       "      <td>White</td>\n",
       "      <td>Misuse of Drugs Act 1971 (section 23)</td>\n",
       "      <td>Controlled drugs</td>\n",
       "      <td>Arrest</td>\n",
       "      <td>True</td>\n",
       "      <td>False</td>\n",
       "    </tr>\n",
       "    <tr>\n",
       "      <th>3</th>\n",
       "      <td>Person and Vehicle search</td>\n",
       "      <td>2020-07-01T03:10:05+00:00</td>\n",
       "      <td>NaN</td>\n",
       "      <td>NaN</td>\n",
       "      <td>51.512117</td>\n",
       "      <td>-0.102411</td>\n",
       "      <td>Female</td>\n",
       "      <td>over 34</td>\n",
       "      <td>White - English/Welsh/Scottish/Northern Irish/...</td>\n",
       "      <td>White</td>\n",
       "      <td>Misuse of Drugs Act 1971 (section 23)</td>\n",
       "      <td>Controlled drugs</td>\n",
       "      <td>Arrest</td>\n",
       "      <td>True</td>\n",
       "      <td>False</td>\n",
       "    </tr>\n",
       "    <tr>\n",
       "      <th>4</th>\n",
       "      <td>Person search</td>\n",
       "      <td>2020-07-01T03:16:33+00:00</td>\n",
       "      <td>NaN</td>\n",
       "      <td>NaN</td>\n",
       "      <td>51.512117</td>\n",
       "      <td>-0.102411</td>\n",
       "      <td>Male</td>\n",
       "      <td>25-34</td>\n",
       "      <td>White - English/Welsh/Scottish/Northern Irish/...</td>\n",
       "      <td>White</td>\n",
       "      <td>Misuse of Drugs Act 1971 (section 23)</td>\n",
       "      <td>Controlled drugs</td>\n",
       "      <td>Arrest</td>\n",
       "      <td>True</td>\n",
       "      <td>False</td>\n",
       "    </tr>\n",
       "  </tbody>\n",
       "</table>\n",
       "</div>"
      ],
      "text/plain": [
       "                        Type                       Date  \\\n",
       "0              Person search  2020-07-01T02:16:55+00:00   \n",
       "1              Person search  2020-07-01T02:16:55+00:00   \n",
       "2  Person and Vehicle search  2020-07-01T03:10:05+00:00   \n",
       "3  Person and Vehicle search  2020-07-01T03:10:05+00:00   \n",
       "4              Person search  2020-07-01T03:16:33+00:00   \n",
       "\n",
       "   Part of a policing operation  Policing operation   Latitude  Longitude  \\\n",
       "0                           NaN                 NaN  51.517196  -0.085149   \n",
       "1                           NaN                 NaN  51.517196  -0.085149   \n",
       "2                           NaN                 NaN  51.512117  -0.102411   \n",
       "3                           NaN                 NaN  51.512117  -0.102411   \n",
       "4                           NaN                 NaN  51.512117  -0.102411   \n",
       "\n",
       "   Gender Age range                             Self-defined ethnicity  \\\n",
       "0    Male     18-24                    Other ethnic group - Not stated   \n",
       "1    Male     18-24                    Other ethnic group - Not stated   \n",
       "2  Female   over 34  White - English/Welsh/Scottish/Northern Irish/...   \n",
       "3  Female   over 34  White - English/Welsh/Scottish/Northern Irish/...   \n",
       "4    Male     25-34  White - English/Welsh/Scottish/Northern Irish/...   \n",
       "\n",
       "  Officer-defined ethnicity                            Legislation  \\\n",
       "0                     White  Misuse of Drugs Act 1971 (section 23)   \n",
       "1                     White  Misuse of Drugs Act 1971 (section 23)   \n",
       "2                     White  Misuse of Drugs Act 1971 (section 23)   \n",
       "3                     White  Misuse of Drugs Act 1971 (section 23)   \n",
       "4                     White  Misuse of Drugs Act 1971 (section 23)   \n",
       "\n",
       "   Object of search                       Outcome  \\\n",
       "0  Controlled drugs  A no further action disposal   \n",
       "1  Controlled drugs  A no further action disposal   \n",
       "2  Controlled drugs                        Arrest   \n",
       "3  Controlled drugs                        Arrest   \n",
       "4  Controlled drugs                        Arrest   \n",
       "\n",
       "   Outcome linked to object of search  \\\n",
       "0                               False   \n",
       "1                               False   \n",
       "2                                True   \n",
       "3                                True   \n",
       "4                                True   \n",
       "\n",
       "   Removal of more than just outer clothing  \n",
       "0                                     False  \n",
       "1                                     False  \n",
       "2                                     False  \n",
       "3                                     False  \n",
       "4                                     False  "
      ]
     },
     "execution_count": 29,
     "metadata": {},
     "output_type": "execute_result"
    }
   ],
   "source": [
    "dataframe=pd.read_csv(\"https://raw.githubusercontent.com/sruthireddy1482/CE888/main/London-stopandserach.csv\")\n",
    "dataframe.head()"
   ]
  },
  {
   "cell_type": "code",
   "execution_count": 30,
   "metadata": {},
   "outputs": [
    {
     "name": "stdout",
     "output_type": "stream",
     "text": [
      "1861 15\n"
     ]
    }
   ],
   "source": [
    "print(dataframe.shape[0],dataframe.shape[1])"
   ]
  },
  {
   "cell_type": "code",
   "execution_count": 31,
   "metadata": {},
   "outputs": [
    {
     "name": "stdout",
     "output_type": "stream",
     "text": [
      "<class 'pandas.core.frame.DataFrame'>\n",
      "RangeIndex: 1861 entries, 0 to 1860\n",
      "Data columns (total 15 columns):\n",
      " #   Column                                    Non-Null Count  Dtype  \n",
      "---  ------                                    --------------  -----  \n",
      " 0   Type                                      1861 non-null   object \n",
      " 1   Date                                      1861 non-null   object \n",
      " 2   Part of a policing operation              0 non-null      float64\n",
      " 3   Policing operation                        0 non-null      float64\n",
      " 4   Latitude                                  1510 non-null   float64\n",
      " 5   Longitude                                 1510 non-null   float64\n",
      " 6   Gender                                    1861 non-null   object \n",
      " 7   Age range                                 1734 non-null   object \n",
      " 8   Self-defined ethnicity                    1761 non-null   object \n",
      " 9   Officer-defined ethnicity                 1759 non-null   object \n",
      " 10  Legislation                               1861 non-null   object \n",
      " 11  Object of search                          1852 non-null   object \n",
      " 12  Outcome                                   1861 non-null   object \n",
      " 13  Outcome linked to object of search        1861 non-null   bool   \n",
      " 14  Removal of more than just outer clothing  1861 non-null   bool   \n",
      "dtypes: bool(2), float64(4), object(9)\n",
      "memory usage: 192.8+ KB\n"
     ]
    }
   ],
   "source": [
    "dataframe.info()"
   ]
  },
  {
   "cell_type": "code",
   "execution_count": 32,
   "metadata": {},
   "outputs": [
    {
     "data": {
      "text/html": [
       "<div>\n",
       "<style scoped>\n",
       "    .dataframe tbody tr th:only-of-type {\n",
       "        vertical-align: middle;\n",
       "    }\n",
       "\n",
       "    .dataframe tbody tr th {\n",
       "        vertical-align: top;\n",
       "    }\n",
       "\n",
       "    .dataframe thead th {\n",
       "        text-align: right;\n",
       "    }\n",
       "</style>\n",
       "<table border=\"1\" class=\"dataframe\">\n",
       "  <thead>\n",
       "    <tr style=\"text-align: right;\">\n",
       "      <th></th>\n",
       "      <th>Type</th>\n",
       "      <th>Date</th>\n",
       "      <th>Latitude</th>\n",
       "      <th>Longitude</th>\n",
       "      <th>Gender</th>\n",
       "      <th>Age range</th>\n",
       "      <th>Self-defined ethnicity</th>\n",
       "      <th>Officer-defined ethnicity</th>\n",
       "      <th>Legislation</th>\n",
       "      <th>Object of search</th>\n",
       "      <th>Outcome</th>\n",
       "      <th>Outcome linked to object of search</th>\n",
       "      <th>Removal of more than just outer clothing</th>\n",
       "    </tr>\n",
       "  </thead>\n",
       "  <tbody>\n",
       "    <tr>\n",
       "      <th>0</th>\n",
       "      <td>Person search</td>\n",
       "      <td>2020-07-01T02:16:55+00:00</td>\n",
       "      <td>51.517196</td>\n",
       "      <td>-0.085149</td>\n",
       "      <td>Male</td>\n",
       "      <td>18-24</td>\n",
       "      <td>Other ethnic group - Not stated</td>\n",
       "      <td>White</td>\n",
       "      <td>Misuse of Drugs Act 1971 (section 23)</td>\n",
       "      <td>Controlled drugs</td>\n",
       "      <td>A no further action disposal</td>\n",
       "      <td>False</td>\n",
       "      <td>False</td>\n",
       "    </tr>\n",
       "    <tr>\n",
       "      <th>1</th>\n",
       "      <td>Person search</td>\n",
       "      <td>2020-07-01T02:16:55+00:00</td>\n",
       "      <td>51.517196</td>\n",
       "      <td>-0.085149</td>\n",
       "      <td>Male</td>\n",
       "      <td>18-24</td>\n",
       "      <td>Other ethnic group - Not stated</td>\n",
       "      <td>White</td>\n",
       "      <td>Misuse of Drugs Act 1971 (section 23)</td>\n",
       "      <td>Controlled drugs</td>\n",
       "      <td>A no further action disposal</td>\n",
       "      <td>False</td>\n",
       "      <td>False</td>\n",
       "    </tr>\n",
       "    <tr>\n",
       "      <th>2</th>\n",
       "      <td>Person and Vehicle search</td>\n",
       "      <td>2020-07-01T03:10:05+00:00</td>\n",
       "      <td>51.512117</td>\n",
       "      <td>-0.102411</td>\n",
       "      <td>Female</td>\n",
       "      <td>over 34</td>\n",
       "      <td>White - English/Welsh/Scottish/Northern Irish/...</td>\n",
       "      <td>White</td>\n",
       "      <td>Misuse of Drugs Act 1971 (section 23)</td>\n",
       "      <td>Controlled drugs</td>\n",
       "      <td>Arrest</td>\n",
       "      <td>True</td>\n",
       "      <td>False</td>\n",
       "    </tr>\n",
       "    <tr>\n",
       "      <th>3</th>\n",
       "      <td>Person and Vehicle search</td>\n",
       "      <td>2020-07-01T03:10:05+00:00</td>\n",
       "      <td>51.512117</td>\n",
       "      <td>-0.102411</td>\n",
       "      <td>Female</td>\n",
       "      <td>over 34</td>\n",
       "      <td>White - English/Welsh/Scottish/Northern Irish/...</td>\n",
       "      <td>White</td>\n",
       "      <td>Misuse of Drugs Act 1971 (section 23)</td>\n",
       "      <td>Controlled drugs</td>\n",
       "      <td>Arrest</td>\n",
       "      <td>True</td>\n",
       "      <td>False</td>\n",
       "    </tr>\n",
       "    <tr>\n",
       "      <th>4</th>\n",
       "      <td>Person search</td>\n",
       "      <td>2020-07-01T03:16:33+00:00</td>\n",
       "      <td>51.512117</td>\n",
       "      <td>-0.102411</td>\n",
       "      <td>Male</td>\n",
       "      <td>25-34</td>\n",
       "      <td>White - English/Welsh/Scottish/Northern Irish/...</td>\n",
       "      <td>White</td>\n",
       "      <td>Misuse of Drugs Act 1971 (section 23)</td>\n",
       "      <td>Controlled drugs</td>\n",
       "      <td>Arrest</td>\n",
       "      <td>True</td>\n",
       "      <td>False</td>\n",
       "    </tr>\n",
       "  </tbody>\n",
       "</table>\n",
       "</div>"
      ],
      "text/plain": [
       "                        Type                       Date   Latitude  Longitude  \\\n",
       "0              Person search  2020-07-01T02:16:55+00:00  51.517196  -0.085149   \n",
       "1              Person search  2020-07-01T02:16:55+00:00  51.517196  -0.085149   \n",
       "2  Person and Vehicle search  2020-07-01T03:10:05+00:00  51.512117  -0.102411   \n",
       "3  Person and Vehicle search  2020-07-01T03:10:05+00:00  51.512117  -0.102411   \n",
       "4              Person search  2020-07-01T03:16:33+00:00  51.512117  -0.102411   \n",
       "\n",
       "   Gender Age range                             Self-defined ethnicity  \\\n",
       "0    Male     18-24                    Other ethnic group - Not stated   \n",
       "1    Male     18-24                    Other ethnic group - Not stated   \n",
       "2  Female   over 34  White - English/Welsh/Scottish/Northern Irish/...   \n",
       "3  Female   over 34  White - English/Welsh/Scottish/Northern Irish/...   \n",
       "4    Male     25-34  White - English/Welsh/Scottish/Northern Irish/...   \n",
       "\n",
       "  Officer-defined ethnicity                            Legislation  \\\n",
       "0                     White  Misuse of Drugs Act 1971 (section 23)   \n",
       "1                     White  Misuse of Drugs Act 1971 (section 23)   \n",
       "2                     White  Misuse of Drugs Act 1971 (section 23)   \n",
       "3                     White  Misuse of Drugs Act 1971 (section 23)   \n",
       "4                     White  Misuse of Drugs Act 1971 (section 23)   \n",
       "\n",
       "   Object of search                       Outcome  \\\n",
       "0  Controlled drugs  A no further action disposal   \n",
       "1  Controlled drugs  A no further action disposal   \n",
       "2  Controlled drugs                        Arrest   \n",
       "3  Controlled drugs                        Arrest   \n",
       "4  Controlled drugs                        Arrest   \n",
       "\n",
       "   Outcome linked to object of search  \\\n",
       "0                               False   \n",
       "1                               False   \n",
       "2                                True   \n",
       "3                                True   \n",
       "4                                True   \n",
       "\n",
       "   Removal of more than just outer clothing  \n",
       "0                                     False  \n",
       "1                                     False  \n",
       "2                                     False  \n",
       "3                                     False  \n",
       "4                                     False  "
      ]
     },
     "execution_count": 32,
     "metadata": {},
     "output_type": "execute_result"
    }
   ],
   "source": [
    "null = ['Part of a policing operation','Policing operation']\n",
    "df = dataframe.drop(columns=null,axis=1)\n",
    "df.head()"
   ]
  },
  {
   "cell_type": "code",
   "execution_count": 33,
   "metadata": {},
   "outputs": [
    {
     "data": {
      "text/plain": [
       "<matplotlib.axes._subplots.AxesSubplot at 0x23ce0d5f470>"
      ]
     },
     "execution_count": 33,
     "metadata": {},
     "output_type": "execute_result"
    },
    {
     "data": {
      "image/png": "[encoded data removed]",
      "text/plain": [
       "<Figure size 640x480 with 1 Axes>"
      ]
     },
     "metadata": {},
     "output_type": "display_data"
    }
   ],
   "source": [
    "df['Gender'].value_counts().plot(kind='bar',color='red')"
   ]
  },
  {
   "cell_type": "code",
   "execution_count": 34,
   "metadata": {},
   "outputs": [
    {
     "data": {
      "text/plain": [
       "<matplotlib.axes._subplots.AxesSubplot at 0x23ce0c9ca20>"
      ]
     },
     "execution_count": 34,
     "metadata": {},
     "output_type": "execute_result"
    },
    {
     "data": {
      "image/png": "[encoded data removed]",
      "text/plain": [
       "<Figure size 640x480 with 1 Axes>"
      ]
     },
     "metadata": {},
     "output_type": "display_data"
    }
   ],
   "source": [
    "plt.style.use('bmh')\n",
    "df['Age range'].value_counts().plot(kind='bar')"
   ]
  },
  {
   "cell_type": "code",
   "execution_count": 35,
   "metadata": {},
   "outputs": [
    {
     "data": {
      "text/html": [
       "<div>\n",
       "<style scoped>\n",
       "    .dataframe tbody tr th:only-of-type {\n",
       "        vertical-align: middle;\n",
       "    }\n",
       "\n",
       "    .dataframe tbody tr th {\n",
       "        vertical-align: top;\n",
       "    }\n",
       "\n",
       "    .dataframe thead th {\n",
       "        text-align: right;\n",
       "    }\n",
       "</style>\n",
       "<table border=\"1\" class=\"dataframe\">\n",
       "  <thead>\n",
       "    <tr style=\"text-align: right;\">\n",
       "      <th>Gender</th>\n",
       "      <th>Female</th>\n",
       "      <th>Male</th>\n",
       "    </tr>\n",
       "    <tr>\n",
       "      <th>Age range</th>\n",
       "      <th></th>\n",
       "      <th></th>\n",
       "    </tr>\n",
       "  </thead>\n",
       "  <tbody>\n",
       "    <tr>\n",
       "      <th>17-Oct</th>\n",
       "      <td>10</td>\n",
       "      <td>139</td>\n",
       "    </tr>\n",
       "    <tr>\n",
       "      <th>18-24</th>\n",
       "      <td>74</td>\n",
       "      <td>570</td>\n",
       "    </tr>\n",
       "    <tr>\n",
       "      <th>25-34</th>\n",
       "      <td>37</td>\n",
       "      <td>515</td>\n",
       "    </tr>\n",
       "    <tr>\n",
       "      <th>over 34</th>\n",
       "      <td>54</td>\n",
       "      <td>334</td>\n",
       "    </tr>\n",
       "    <tr>\n",
       "      <th>under 10</th>\n",
       "      <td>0</td>\n",
       "      <td>1</td>\n",
       "    </tr>\n",
       "  </tbody>\n",
       "</table>\n",
       "</div>"
      ],
      "text/plain": [
       "Gender     Female  Male\n",
       "Age range              \n",
       "17-Oct         10   139\n",
       "18-24          74   570\n",
       "25-34          37   515\n",
       "over 34        54   334\n",
       "under 10        0     1"
      ]
     },
     "execution_count": 35,
     "metadata": {},
     "output_type": "execute_result"
    }
   ],
   "source": [
    "table1 = pd.crosstab(index=df[\"Age range\"], columns=df[\"Gender\"])\n",
    "\n",
    "table1"
   ]
  },
  {
   "cell_type": "code",
   "execution_count": 36,
   "metadata": {},
   "outputs": [
    {
     "data": {
      "text/plain": [
       "<matplotlib.axes._subplots.AxesSubplot at 0x23ce0ae9f98>"
      ]
     },
     "execution_count": 36,
     "metadata": {},
     "output_type": "execute_result"
    },
    {
     "data": {
      "image/png": "[encoded data removed]",
      "text/plain": [
       "<Figure size 640x480 with 1 Axes>"
      ]
     },
     "metadata": {},
     "output_type": "display_data"
    }
   ],
   "source": [
    "\n",
    "table1.plot(kind='bar')"
   ]
  },
  {
   "cell_type": "code",
   "execution_count": 37,
   "metadata": {},
   "outputs": [
    {
     "data": {
      "text/html": [
       "<div>\n",
       "<style scoped>\n",
       "    .dataframe tbody tr th:only-of-type {\n",
       "        vertical-align: middle;\n",
       "    }\n",
       "\n",
       "    .dataframe tbody tr th {\n",
       "        vertical-align: top;\n",
       "    }\n",
       "\n",
       "    .dataframe thead th {\n",
       "        text-align: right;\n",
       "    }\n",
       "</style>\n",
       "<table border=\"1\" class=\"dataframe\">\n",
       "  <thead>\n",
       "    <tr style=\"text-align: right;\">\n",
       "      <th>Gender</th>\n",
       "      <th>Female</th>\n",
       "      <th>Male</th>\n",
       "    </tr>\n",
       "    <tr>\n",
       "      <th>Type</th>\n",
       "      <th></th>\n",
       "      <th></th>\n",
       "    </tr>\n",
       "  </thead>\n",
       "  <tbody>\n",
       "    <tr>\n",
       "      <th>Person and Vehicle search</th>\n",
       "      <td>22</td>\n",
       "      <td>421</td>\n",
       "    </tr>\n",
       "    <tr>\n",
       "      <th>Person search</th>\n",
       "      <td>176</td>\n",
       "      <td>1242</td>\n",
       "    </tr>\n",
       "  </tbody>\n",
       "</table>\n",
       "</div>"
      ],
      "text/plain": [
       "Gender                     Female  Male\n",
       "Type                                   \n",
       "Person and Vehicle search      22   421\n",
       "Person search                 176  1242"
      ]
     },
     "execution_count": 37,
     "metadata": {},
     "output_type": "execute_result"
    }
   ],
   "source": [
    "table3 = pd.crosstab(index=df[\"Type\"], columns=df[\"Gender\"])\n",
    "\n",
    "table3"
   ]
  },
  {
   "cell_type": "code",
   "execution_count": 38,
   "metadata": {},
   "outputs": [
    {
     "data": {
      "text/plain": [
       "<matplotlib.axes._subplots.AxesSubplot at 0x23ce1239a58>"
      ]
     },
     "execution_count": 38,
     "metadata": {},
     "output_type": "execute_result"
    },
    {
     "data": {
      "image/png": "[encoded data removed]",
      "text/plain": [
       "<Figure size 640x480 with 1 Axes>"
      ]
     },
     "metadata": {},
     "output_type": "display_data"
    }
   ],
   "source": [
    "plt.style.use('ggplot')\n",
    "table3.plot(kind='bar')"
   ]
  },
  {
   "cell_type": "code",
   "execution_count": 39,
   "metadata": {},
   "outputs": [
    {
     "data": {
      "text/html": [
       "<div>\n",
       "<style scoped>\n",
       "    .dataframe tbody tr th:only-of-type {\n",
       "        vertical-align: middle;\n",
       "    }\n",
       "\n",
       "    .dataframe tbody tr th {\n",
       "        vertical-align: top;\n",
       "    }\n",
       "\n",
       "    .dataframe thead th {\n",
       "        text-align: right;\n",
       "    }\n",
       "</style>\n",
       "<table border=\"1\" class=\"dataframe\">\n",
       "  <thead>\n",
       "    <tr style=\"text-align: right;\">\n",
       "      <th>Gender</th>\n",
       "      <th>Female</th>\n",
       "      <th>Male</th>\n",
       "    </tr>\n",
       "    <tr>\n",
       "      <th>Officer-defined ethnicity</th>\n",
       "      <th></th>\n",
       "      <th></th>\n",
       "    </tr>\n",
       "  </thead>\n",
       "  <tbody>\n",
       "    <tr>\n",
       "      <th>Asian</th>\n",
       "      <td>16</td>\n",
       "      <td>348</td>\n",
       "    </tr>\n",
       "    <tr>\n",
       "      <th>Black</th>\n",
       "      <td>33</td>\n",
       "      <td>357</td>\n",
       "    </tr>\n",
       "    <tr>\n",
       "      <th>Other</th>\n",
       "      <td>14</td>\n",
       "      <td>116</td>\n",
       "    </tr>\n",
       "    <tr>\n",
       "      <th>White</th>\n",
       "      <td>117</td>\n",
       "      <td>758</td>\n",
       "    </tr>\n",
       "  </tbody>\n",
       "</table>\n",
       "</div>"
      ],
      "text/plain": [
       "Gender                     Female  Male\n",
       "Officer-defined ethnicity              \n",
       "Asian                          16   348\n",
       "Black                          33   357\n",
       "Other                          14   116\n",
       "White                         117   758"
      ]
     },
     "execution_count": 39,
     "metadata": {},
     "output_type": "execute_result"
    }
   ],
   "source": [
    "table2 = pd.crosstab(index=df[\"Officer-defined ethnicity\"], columns=df[\"Gender\"])\n",
    "\n",
    "table2"
   ]
  },
  {
   "cell_type": "code",
   "execution_count": 40,
   "metadata": {},
   "outputs": [
    {
     "data": {
      "image/png": "[encoded data removed]",
      "text/plain": [
       "<Figure size 640x480 with 1 Axes>"
      ]
     },
     "metadata": {},
     "output_type": "display_data"
    }
   ],
   "source": [
    "plt.style.use('default')\n",
    "table2.plot(kind='bar')\n",
    "plt.ylabel('No.of Stop and stop searches')\n",
    "plt.show()"
   ]
  },
  {
   "cell_type": "code",
   "execution_count": 41,
   "metadata": {},
   "outputs": [
    {
     "data": {
      "text/plain": [
       "Person search                1418\n",
       "Person and Vehicle search     443\n",
       "Name: Type, dtype: int64"
      ]
     },
     "execution_count": 41,
     "metadata": {},
     "output_type": "execute_result"
    }
   ],
   "source": [
    "df['Type'].value_counts()"
   ]
  },
  {
   "cell_type": "code",
   "execution_count": 42,
   "metadata": {
    "scrolled": true
   },
   "outputs": [
    {
     "data": {
      "text/plain": [
       "<matplotlib.axes._subplots.AxesSubplot at 0x23ce1382630>"
      ]
     },
     "execution_count": 42,
     "metadata": {},
     "output_type": "execute_result"
    },
    {
     "data": {
      "image/png": "[encoded data removed]",
      "text/plain": [
       "<Figure size 640x480 with 1 Axes>"
      ]
     },
     "metadata": {},
     "output_type": "display_data"
    }
   ],
   "source": [
    "table4 = pd.crosstab(index=df[\"Officer-defined ethnicity\"], columns=df[\"Outcome\"])\n",
    "\n",
    "table4.plot(kind='bar')"
   ]
  },
  {
   "cell_type": "code",
   "execution_count": 43,
   "metadata": {},
   "outputs": [
    {
     "data": {
      "text/plain": [
       "A no further action disposal       1397\n",
       "Arrest                              306\n",
       "Khat or Cannabis warning            123\n",
       "Summons / charged by post            11\n",
       "Community resolution                 10\n",
       "Penalty Notice for Disorder           8\n",
       "Caution (simple or conditional)       6\n",
       "Name: Outcome, dtype: int64"
      ]
     },
     "execution_count": 43,
     "metadata": {},
     "output_type": "execute_result"
    }
   ],
   "source": [
    "df['Outcome'].value_counts()"
   ]
  },
  {
   "cell_type": "code",
   "execution_count": 44,
   "metadata": {},
   "outputs": [
    {
     "data": {
      "text/plain": [
       "<matplotlib.axes._subplots.AxesSubplot at 0x23ce1398240>"
      ]
     },
     "execution_count": 44,
     "metadata": {},
     "output_type": "execute_result"
    },
    {
     "data": {
      "image/png": "[encoded data removed]",
      "text/plain": [
       "<Figure size 640x480 with 1 Axes>"
      ]
     },
     "metadata": {},
     "output_type": "display_data"
    }
   ],
   "source": [
    "plt.style.use('default')\n",
    "df['Outcome'].value_counts().plot(kind='pie')"
   ]
  },
  {
   "cell_type": "code",
   "execution_count": 45,
   "metadata": {},
   "outputs": [
    {
     "data": {
      "text/html": [
       "<div>\n",
       "<style scoped>\n",
       "    .dataframe tbody tr th:only-of-type {\n",
       "        vertical-align: middle;\n",
       "    }\n",
       "\n",
       "    .dataframe tbody tr th {\n",
       "        vertical-align: top;\n",
       "    }\n",
       "\n",
       "    .dataframe thead th {\n",
       "        text-align: right;\n",
       "    }\n",
       "</style>\n",
       "<table border=\"1\" class=\"dataframe\">\n",
       "  <thead>\n",
       "    <tr style=\"text-align: right;\">\n",
       "      <th>Removal of more than just outer clothing</th>\n",
       "      <th>False</th>\n",
       "      <th>True</th>\n",
       "    </tr>\n",
       "    <tr>\n",
       "      <th>Officer-defined ethnicity</th>\n",
       "      <th></th>\n",
       "      <th></th>\n",
       "    </tr>\n",
       "  </thead>\n",
       "  <tbody>\n",
       "    <tr>\n",
       "      <th>Asian</th>\n",
       "      <td>351</td>\n",
       "      <td>13</td>\n",
       "    </tr>\n",
       "    <tr>\n",
       "      <th>Black</th>\n",
       "      <td>381</td>\n",
       "      <td>9</td>\n",
       "    </tr>\n",
       "    <tr>\n",
       "      <th>Other</th>\n",
       "      <td>129</td>\n",
       "      <td>1</td>\n",
       "    </tr>\n",
       "    <tr>\n",
       "      <th>White</th>\n",
       "      <td>851</td>\n",
       "      <td>24</td>\n",
       "    </tr>\n",
       "  </tbody>\n",
       "</table>\n",
       "</div>"
      ],
      "text/plain": [
       "Removal of more than just outer clothing  False  True \n",
       "Officer-defined ethnicity                             \n",
       "Asian                                       351     13\n",
       "Black                                       381      9\n",
       "Other                                       129      1\n",
       "White                                       851     24"
      ]
     },
     "execution_count": 45,
     "metadata": {},
     "output_type": "execute_result"
    }
   ],
   "source": [
    "table5 = pd.crosstab(index=df[\"Officer-defined ethnicity\"], columns=df[\"Removal of more than just outer clothing\"])\n",
    "\n",
    "table5"
   ]
  },
  {
   "cell_type": "code",
   "execution_count": 46,
   "metadata": {},
   "outputs": [
    {
     "name": "stdout",
     "output_type": "stream",
     "text": [
      "['Solarize_Light2', '_classic_test_patch', 'bmh', 'classic', 'dark_background', 'fast', 'fivethirtyeight', 'ggplot', 'grayscale', 'seaborn', 'seaborn-bright', 'seaborn-colorblind', 'seaborn-dark', 'seaborn-dark-palette', 'seaborn-darkgrid', 'seaborn-deep', 'seaborn-muted', 'seaborn-notebook', 'seaborn-paper', 'seaborn-pastel', 'seaborn-poster', 'seaborn-talk', 'seaborn-ticks', 'seaborn-white', 'seaborn-whitegrid', 'tableau-colorblind10']\n"
     ]
    },
    {
     "data": {
      "image/png": "[encoded data removed]",
      "text/plain": [
       "<Figure size 640x480 with 1 Axes>"
      ]
     },
     "metadata": {},
     "output_type": "display_data"
    }
   ],
   "source": [
    "plt.style.use('seaborn-whitegrid')\n",
    "table5.plot(kind='bar')\n",
    "print(plt.style.available)\n",
    "plt.show()"
   ]
  },
  {
   "cell_type": "code",
   "execution_count": 47,
   "metadata": {},
   "outputs": [
    {
     "data": {
      "text/plain": [
       "Controlled drugs                       1171\n",
       "Article for use in theft                310\n",
       "Stolen goods                            217\n",
       "Offensive weapons                        86\n",
       "Evidence of offences under the Act       39\n",
       "Articles for use in criminal damage      16\n",
       "Firearms                                 10\n",
       "Fireworks                                 2\n",
       "Crossbows                                 1\n",
       "Name: Object of search, dtype: int64"
      ]
     },
     "execution_count": 47,
     "metadata": {},
     "output_type": "execute_result"
    }
   ],
   "source": [
    "df['Object of search'].value_counts()"
   ]
  },
  {
   "cell_type": "code",
   "execution_count": 48,
   "metadata": {},
   "outputs": [
    {
     "data": {
      "text/html": [
       "<div>\n",
       "<style scoped>\n",
       "    .dataframe tbody tr th:only-of-type {\n",
       "        vertical-align: middle;\n",
       "    }\n",
       "\n",
       "    .dataframe tbody tr th {\n",
       "        vertical-align: top;\n",
       "    }\n",
       "\n",
       "    .dataframe thead th {\n",
       "        text-align: right;\n",
       "    }\n",
       "</style>\n",
       "<table border=\"1\" class=\"dataframe\">\n",
       "  <thead>\n",
       "    <tr style=\"text-align: right;\">\n",
       "      <th>Gender</th>\n",
       "      <th>Female</th>\n",
       "      <th>Male</th>\n",
       "    </tr>\n",
       "    <tr>\n",
       "      <th>Object of search</th>\n",
       "      <th></th>\n",
       "      <th></th>\n",
       "    </tr>\n",
       "  </thead>\n",
       "  <tbody>\n",
       "    <tr>\n",
       "      <th>Article for use in theft</th>\n",
       "      <td>21</td>\n",
       "      <td>289</td>\n",
       "    </tr>\n",
       "    <tr>\n",
       "      <th>Articles for use in criminal damage</th>\n",
       "      <td>3</td>\n",
       "      <td>13</td>\n",
       "    </tr>\n",
       "    <tr>\n",
       "      <th>Controlled drugs</th>\n",
       "      <td>120</td>\n",
       "      <td>1051</td>\n",
       "    </tr>\n",
       "    <tr>\n",
       "      <th>Crossbows</th>\n",
       "      <td>0</td>\n",
       "      <td>1</td>\n",
       "    </tr>\n",
       "    <tr>\n",
       "      <th>Evidence of offences under the Act</th>\n",
       "      <td>7</td>\n",
       "      <td>32</td>\n",
       "    </tr>\n",
       "    <tr>\n",
       "      <th>Firearms</th>\n",
       "      <td>0</td>\n",
       "      <td>10</td>\n",
       "    </tr>\n",
       "    <tr>\n",
       "      <th>Fireworks</th>\n",
       "      <td>0</td>\n",
       "      <td>2</td>\n",
       "    </tr>\n",
       "    <tr>\n",
       "      <th>Offensive weapons</th>\n",
       "      <td>0</td>\n",
       "      <td>86</td>\n",
       "    </tr>\n",
       "    <tr>\n",
       "      <th>Stolen goods</th>\n",
       "      <td>47</td>\n",
       "      <td>170</td>\n",
       "    </tr>\n",
       "  </tbody>\n",
       "</table>\n",
       "</div>"
      ],
      "text/plain": [
       "Gender                               Female  Male\n",
       "Object of search                                 \n",
       "Article for use in theft                 21   289\n",
       "Articles for use in criminal damage       3    13\n",
       "Controlled drugs                        120  1051\n",
       "Crossbows                                 0     1\n",
       "Evidence of offences under the Act        7    32\n",
       "Firearms                                  0    10\n",
       "Fireworks                                 0     2\n",
       "Offensive weapons                         0    86\n",
       "Stolen goods                             47   170"
      ]
     },
     "execution_count": 48,
     "metadata": {},
     "output_type": "execute_result"
    }
   ],
   "source": [
    "table6 = pd.crosstab(index=df[\"Object of search\"], columns=df[\"Gender\"])\n",
    "\n",
    "table6"
   ]
  },
  {
   "cell_type": "code",
   "execution_count": 49,
   "metadata": {},
   "outputs": [
    {
     "data": {
      "text/plain": [
       "Other ethnic group - Not stated                                                         732\n",
       "White - English/Welsh/Scottish/Northern Irish/British                                   356\n",
       "White - Any other White background                                                      198\n",
       "Black/African/Caribbean/Black British - African                                         112\n",
       "Asian/Asian British - Bangladeshi                                                        90\n",
       "Asian/Asian British - Any other Asian background                                         61\n",
       "Black/African/Caribbean/Black British - Caribbean                                        52\n",
       "Asian/Asian British - Pakistani                                                          27\n",
       "Other ethnic group - Any other ethnic group                                              25\n",
       "Mixed/Multiple ethnic groups - Any other Mixed/Multiple ethnic background                20\n",
       "Asian/Asian British - Indian                                                             20\n",
       "Black/African/Caribbean/Black British - Any other Black/African/Caribbean background     17\n",
       "White - Irish                                                                            16\n",
       "Mixed/Multiple ethnic groups - White and Black Caribbean                                 14\n",
       "Mixed/Multiple ethnic groups - White and Black African                                   13\n",
       "Mixed/Multiple ethnic groups - White and Asian                                            5\n",
       "Asian/Asian British - Chinese                                                             3\n",
       "Name: Self-defined ethnicity, dtype: int64"
      ]
     },
     "execution_count": 49,
     "metadata": {},
     "output_type": "execute_result"
    }
   ],
   "source": [
    "df['Self-defined ethnicity'].value_counts()"
   ]
  },
  {
   "cell_type": "code",
   "execution_count": 50,
   "metadata": {},
   "outputs": [
    {
     "data": {
      "text/html": [
       "<div>\n",
       "<style scoped>\n",
       "    .dataframe tbody tr th:only-of-type {\n",
       "        vertical-align: middle;\n",
       "    }\n",
       "\n",
       "    .dataframe tbody tr th {\n",
       "        vertical-align: top;\n",
       "    }\n",
       "\n",
       "    .dataframe thead th {\n",
       "        text-align: right;\n",
       "    }\n",
       "</style>\n",
       "<table border=\"1\" class=\"dataframe\">\n",
       "  <thead>\n",
       "    <tr style=\"text-align: right;\">\n",
       "      <th>Removal of more than just outer clothing</th>\n",
       "      <th>False</th>\n",
       "      <th>True</th>\n",
       "    </tr>\n",
       "    <tr>\n",
       "      <th>Self-defined ethnicity</th>\n",
       "      <th></th>\n",
       "      <th></th>\n",
       "    </tr>\n",
       "  </thead>\n",
       "  <tbody>\n",
       "    <tr>\n",
       "      <th>Asian/Asian British - Any other Asian background</th>\n",
       "      <td>60</td>\n",
       "      <td>1</td>\n",
       "    </tr>\n",
       "    <tr>\n",
       "      <th>Asian/Asian British - Bangladeshi</th>\n",
       "      <td>85</td>\n",
       "      <td>5</td>\n",
       "    </tr>\n",
       "    <tr>\n",
       "      <th>Asian/Asian British - Chinese</th>\n",
       "      <td>3</td>\n",
       "      <td>0</td>\n",
       "    </tr>\n",
       "    <tr>\n",
       "      <th>Asian/Asian British - Indian</th>\n",
       "      <td>20</td>\n",
       "      <td>0</td>\n",
       "    </tr>\n",
       "    <tr>\n",
       "      <th>Asian/Asian British - Pakistani</th>\n",
       "      <td>26</td>\n",
       "      <td>1</td>\n",
       "    </tr>\n",
       "    <tr>\n",
       "      <th>Black/African/Caribbean/Black British - African</th>\n",
       "      <td>109</td>\n",
       "      <td>3</td>\n",
       "    </tr>\n",
       "    <tr>\n",
       "      <th>Black/African/Caribbean/Black British - Any other Black/African/Caribbean background</th>\n",
       "      <td>17</td>\n",
       "      <td>0</td>\n",
       "    </tr>\n",
       "    <tr>\n",
       "      <th>Black/African/Caribbean/Black British - Caribbean</th>\n",
       "      <td>52</td>\n",
       "      <td>0</td>\n",
       "    </tr>\n",
       "    <tr>\n",
       "      <th>Mixed/Multiple ethnic groups - Any other Mixed/Multiple ethnic background</th>\n",
       "      <td>20</td>\n",
       "      <td>0</td>\n",
       "    </tr>\n",
       "    <tr>\n",
       "      <th>Mixed/Multiple ethnic groups - White and Asian</th>\n",
       "      <td>5</td>\n",
       "      <td>0</td>\n",
       "    </tr>\n",
       "    <tr>\n",
       "      <th>Mixed/Multiple ethnic groups - White and Black African</th>\n",
       "      <td>13</td>\n",
       "      <td>0</td>\n",
       "    </tr>\n",
       "    <tr>\n",
       "      <th>Mixed/Multiple ethnic groups - White and Black Caribbean</th>\n",
       "      <td>12</td>\n",
       "      <td>2</td>\n",
       "    </tr>\n",
       "    <tr>\n",
       "      <th>Other ethnic group - Any other ethnic group</th>\n",
       "      <td>25</td>\n",
       "      <td>0</td>\n",
       "    </tr>\n",
       "    <tr>\n",
       "      <th>Other ethnic group - Not stated</th>\n",
       "      <td>708</td>\n",
       "      <td>24</td>\n",
       "    </tr>\n",
       "    <tr>\n",
       "      <th>White - Any other White background</th>\n",
       "      <td>193</td>\n",
       "      <td>5</td>\n",
       "    </tr>\n",
       "    <tr>\n",
       "      <th>White - English/Welsh/Scottish/Northern Irish/British</th>\n",
       "      <td>351</td>\n",
       "      <td>5</td>\n",
       "    </tr>\n",
       "    <tr>\n",
       "      <th>White - Irish</th>\n",
       "      <td>15</td>\n",
       "      <td>1</td>\n",
       "    </tr>\n",
       "  </tbody>\n",
       "</table>\n",
       "</div>"
      ],
      "text/plain": [
       "Removal of more than just outer clothing            False  True \n",
       "Self-defined ethnicity                                          \n",
       "Asian/Asian British - Any other Asian background       60      1\n",
       "Asian/Asian British - Bangladeshi                      85      5\n",
       "Asian/Asian British - Chinese                           3      0\n",
       "Asian/Asian British - Indian                           20      0\n",
       "Asian/Asian British - Pakistani                        26      1\n",
       "Black/African/Caribbean/Black British - African       109      3\n",
       "Black/African/Caribbean/Black British - Any oth...     17      0\n",
       "Black/African/Caribbean/Black British - Caribbean      52      0\n",
       "Mixed/Multiple ethnic groups - Any other Mixed/...     20      0\n",
       "Mixed/Multiple ethnic groups - White and Asian          5      0\n",
       "Mixed/Multiple ethnic groups - White and Black ...     13      0\n",
       "Mixed/Multiple ethnic groups - White and Black ...     12      2\n",
       "Other ethnic group - Any other ethnic group            25      0\n",
       "Other ethnic group - Not stated                       708     24\n",
       "White - Any other White background                    193      5\n",
       "White - English/Welsh/Scottish/Northern Irish/B...    351      5\n",
       "White - Irish                                          15      1"
      ]
     },
     "execution_count": 50,
     "metadata": {},
     "output_type": "execute_result"
    }
   ],
   "source": [
    "table6 = pd.crosstab(index=df[\"Self-defined ethnicity\"], columns=df[\"Removal of more than just outer clothing\"])\n",
    "\n",
    "table6"
   ]
  },
  {
   "cell_type": "code",
   "execution_count": 51,
   "metadata": {},
   "outputs": [
    {
     "data": {
      "text/html": [
       "<div>\n",
       "<style scoped>\n",
       "    .dataframe tbody tr th:only-of-type {\n",
       "        vertical-align: middle;\n",
       "    }\n",
       "\n",
       "    .dataframe tbody tr th {\n",
       "        vertical-align: top;\n",
       "    }\n",
       "\n",
       "    .dataframe thead th {\n",
       "        text-align: right;\n",
       "    }\n",
       "</style>\n",
       "<table border=\"1\" class=\"dataframe\">\n",
       "  <thead>\n",
       "    <tr style=\"text-align: right;\">\n",
       "      <th></th>\n",
       "      <th>Type</th>\n",
       "      <th>Date</th>\n",
       "      <th>Latitude</th>\n",
       "      <th>Longitude</th>\n",
       "      <th>Gender</th>\n",
       "      <th>Age range</th>\n",
       "      <th>Self-defined ethnicity</th>\n",
       "      <th>Officer-defined ethnicity</th>\n",
       "      <th>Legislation</th>\n",
       "      <th>Object of search</th>\n",
       "      <th>Outcome</th>\n",
       "      <th>Outcome linked to object of search</th>\n",
       "      <th>Removal of more than just outer clothing</th>\n",
       "    </tr>\n",
       "  </thead>\n",
       "  <tbody>\n",
       "    <tr>\n",
       "      <th>0</th>\n",
       "      <td>Person search</td>\n",
       "      <td>2020-07-01T02:16:55+00:00</td>\n",
       "      <td>51.517196</td>\n",
       "      <td>-0.085149</td>\n",
       "      <td>Male</td>\n",
       "      <td>18-24</td>\n",
       "      <td>Other ethnic group - Not stated</td>\n",
       "      <td>White</td>\n",
       "      <td>Misuse of Drugs Act 1971 (section 23)</td>\n",
       "      <td>Controlled drugs</td>\n",
       "      <td>A no further action disposal</td>\n",
       "      <td>False</td>\n",
       "      <td>False</td>\n",
       "    </tr>\n",
       "    <tr>\n",
       "      <th>1</th>\n",
       "      <td>Person search</td>\n",
       "      <td>2020-07-01T02:16:55+00:00</td>\n",
       "      <td>51.517196</td>\n",
       "      <td>-0.085149</td>\n",
       "      <td>Male</td>\n",
       "      <td>18-24</td>\n",
       "      <td>Other ethnic group - Not stated</td>\n",
       "      <td>White</td>\n",
       "      <td>Misuse of Drugs Act 1971 (section 23)</td>\n",
       "      <td>Controlled drugs</td>\n",
       "      <td>A no further action disposal</td>\n",
       "      <td>False</td>\n",
       "      <td>False</td>\n",
       "    </tr>\n",
       "    <tr>\n",
       "      <th>2</th>\n",
       "      <td>Person and Vehicle search</td>\n",
       "      <td>2020-07-01T03:10:05+00:00</td>\n",
       "      <td>51.512117</td>\n",
       "      <td>-0.102411</td>\n",
       "      <td>Female</td>\n",
       "      <td>over 34</td>\n",
       "      <td>White - English/Welsh/Scottish/Northern Irish/...</td>\n",
       "      <td>White</td>\n",
       "      <td>Misuse of Drugs Act 1971 (section 23)</td>\n",
       "      <td>Controlled drugs</td>\n",
       "      <td>Arrest</td>\n",
       "      <td>True</td>\n",
       "      <td>False</td>\n",
       "    </tr>\n",
       "    <tr>\n",
       "      <th>3</th>\n",
       "      <td>Person and Vehicle search</td>\n",
       "      <td>2020-07-01T03:10:05+00:00</td>\n",
       "      <td>51.512117</td>\n",
       "      <td>-0.102411</td>\n",
       "      <td>Female</td>\n",
       "      <td>over 34</td>\n",
       "      <td>White - English/Welsh/Scottish/Northern Irish/...</td>\n",
       "      <td>White</td>\n",
       "      <td>Misuse of Drugs Act 1971 (section 23)</td>\n",
       "      <td>Controlled drugs</td>\n",
       "      <td>Arrest</td>\n",
       "      <td>True</td>\n",
       "      <td>False</td>\n",
       "    </tr>\n",
       "    <tr>\n",
       "      <th>4</th>\n",
       "      <td>Person search</td>\n",
       "      <td>2020-07-01T03:16:33+00:00</td>\n",
       "      <td>51.512117</td>\n",
       "      <td>-0.102411</td>\n",
       "      <td>Male</td>\n",
       "      <td>25-34</td>\n",
       "      <td>White - English/Welsh/Scottish/Northern Irish/...</td>\n",
       "      <td>White</td>\n",
       "      <td>Misuse of Drugs Act 1971 (section 23)</td>\n",
       "      <td>Controlled drugs</td>\n",
       "      <td>Arrest</td>\n",
       "      <td>True</td>\n",
       "      <td>False</td>\n",
       "    </tr>\n",
       "  </tbody>\n",
       "</table>\n",
       "</div>"
      ],
      "text/plain": [
       "                        Type                       Date   Latitude  Longitude  \\\n",
       "0              Person search  2020-07-01T02:16:55+00:00  51.517196  -0.085149   \n",
       "1              Person search  2020-07-01T02:16:55+00:00  51.517196  -0.085149   \n",
       "2  Person and Vehicle search  2020-07-01T03:10:05+00:00  51.512117  -0.102411   \n",
       "3  Person and Vehicle search  2020-07-01T03:10:05+00:00  51.512117  -0.102411   \n",
       "4              Person search  2020-07-01T03:16:33+00:00  51.512117  -0.102411   \n",
       "\n",
       "   Gender Age range                             Self-defined ethnicity  \\\n",
       "0    Male     18-24                    Other ethnic group - Not stated   \n",
       "1    Male     18-24                    Other ethnic group - Not stated   \n",
       "2  Female   over 34  White - English/Welsh/Scottish/Northern Irish/...   \n",
       "3  Female   over 34  White - English/Welsh/Scottish/Northern Irish/...   \n",
       "4    Male     25-34  White - English/Welsh/Scottish/Northern Irish/...   \n",
       "\n",
       "  Officer-defined ethnicity                            Legislation  \\\n",
       "0                     White  Misuse of Drugs Act 1971 (section 23)   \n",
       "1                     White  Misuse of Drugs Act 1971 (section 23)   \n",
       "2                     White  Misuse of Drugs Act 1971 (section 23)   \n",
       "3                     White  Misuse of Drugs Act 1971 (section 23)   \n",
       "4                     White  Misuse of Drugs Act 1971 (section 23)   \n",
       "\n",
       "   Object of search                       Outcome  \\\n",
       "0  Controlled drugs  A no further action disposal   \n",
       "1  Controlled drugs  A no further action disposal   \n",
       "2  Controlled drugs                        Arrest   \n",
       "3  Controlled drugs                        Arrest   \n",
       "4  Controlled drugs                        Arrest   \n",
       "\n",
       "   Outcome linked to object of search  \\\n",
       "0                               False   \n",
       "1                               False   \n",
       "2                                True   \n",
       "3                                True   \n",
       "4                                True   \n",
       "\n",
       "   Removal of more than just outer clothing  \n",
       "0                                     False  \n",
       "1                                     False  \n",
       "2                                     False  \n",
       "3                                     False  \n",
       "4                                     False  "
      ]
     },
     "execution_count": 51,
     "metadata": {},
     "output_type": "execute_result"
    }
   ],
   "source": [
    "df.head()"
   ]
  },
  {
   "cell_type": "code",
   "execution_count": 53,
   "metadata": {},
   "outputs": [
    {
     "name": "stdout",
     "output_type": "stream",
     "text": [
      "<class 'pandas.core.frame.DataFrame'>\n",
      "RangeIndex: 1861 entries, 0 to 1860\n",
      "Data columns (total 13 columns):\n",
      " #   Column                                    Non-Null Count  Dtype  \n",
      "---  ------                                    --------------  -----  \n",
      " 0   Type                                      1861 non-null   object \n",
      " 1   Date                                      1861 non-null   object \n",
      " 2   Latitude                                  1510 non-null   float64\n",
      " 3   Longitude                                 1510 non-null   float64\n",
      " 4   Gender                                    1861 non-null   object \n",
      " 5   Age range                                 1734 non-null   object \n",
      " 6   Self-defined ethnicity                    1761 non-null   object \n",
      " 7   Officer-defined ethnicity                 1759 non-null   object \n",
      " 8   Legislation                               1861 non-null   object \n",
      " 9   Object of search                          1852 non-null   object \n",
      " 10  Outcome                                   1861 non-null   object \n",
      " 11  Outcome linked to object of search        1861 non-null   bool   \n",
      " 12  Removal of more than just outer clothing  1861 non-null   bool   \n",
      "dtypes: bool(2), float64(2), object(9)\n",
      "memory usage: 163.7+ KB\n"
     ]
    }
   ],
   "source": [
    "df.info()"
   ]
  },
  {
   "cell_type": "code",
   "execution_count": 55,
   "metadata": {},
   "outputs": [
    {
     "data": {
      "text/html": [
       "<div>\n",
       "<style scoped>\n",
       "    .dataframe tbody tr th:only-of-type {\n",
       "        vertical-align: middle;\n",
       "    }\n",
       "\n",
       "    .dataframe tbody tr th {\n",
       "        vertical-align: top;\n",
       "    }\n",
       "\n",
       "    .dataframe thead th {\n",
       "        text-align: right;\n",
       "    }\n",
       "</style>\n",
       "<table border=\"1\" class=\"dataframe\">\n",
       "  <thead>\n",
       "    <tr style=\"text-align: right;\">\n",
       "      <th></th>\n",
       "      <th>Type</th>\n",
       "      <th>Date</th>\n",
       "      <th>Gender</th>\n",
       "      <th>Legislation</th>\n",
       "      <th>Outcome</th>\n",
       "      <th>Outcome linked to object of search</th>\n",
       "      <th>Removal of more than just outer clothing</th>\n",
       "    </tr>\n",
       "  </thead>\n",
       "  <tbody>\n",
       "    <tr>\n",
       "      <th>0</th>\n",
       "      <td>Person search</td>\n",
       "      <td>2020-07-01T02:16:55+00:00</td>\n",
       "      <td>Male</td>\n",
       "      <td>Misuse of Drugs Act 1971 (section 23)</td>\n",
       "      <td>A no further action disposal</td>\n",
       "      <td>False</td>\n",
       "      <td>False</td>\n",
       "    </tr>\n",
       "    <tr>\n",
       "      <th>1</th>\n",
       "      <td>Person search</td>\n",
       "      <td>2020-07-01T02:16:55+00:00</td>\n",
       "      <td>Male</td>\n",
       "      <td>Misuse of Drugs Act 1971 (section 23)</td>\n",
       "      <td>A no further action disposal</td>\n",
       "      <td>False</td>\n",
       "      <td>False</td>\n",
       "    </tr>\n",
       "    <tr>\n",
       "      <th>2</th>\n",
       "      <td>Person and Vehicle search</td>\n",
       "      <td>2020-07-01T03:10:05+00:00</td>\n",
       "      <td>Female</td>\n",
       "      <td>Misuse of Drugs Act 1971 (section 23)</td>\n",
       "      <td>Arrest</td>\n",
       "      <td>True</td>\n",
       "      <td>False</td>\n",
       "    </tr>\n",
       "    <tr>\n",
       "      <th>3</th>\n",
       "      <td>Person and Vehicle search</td>\n",
       "      <td>2020-07-01T03:10:05+00:00</td>\n",
       "      <td>Female</td>\n",
       "      <td>Misuse of Drugs Act 1971 (section 23)</td>\n",
       "      <td>Arrest</td>\n",
       "      <td>True</td>\n",
       "      <td>False</td>\n",
       "    </tr>\n",
       "    <tr>\n",
       "      <th>4</th>\n",
       "      <td>Person search</td>\n",
       "      <td>2020-07-01T03:16:33+00:00</td>\n",
       "      <td>Male</td>\n",
       "      <td>Misuse of Drugs Act 1971 (section 23)</td>\n",
       "      <td>Arrest</td>\n",
       "      <td>True</td>\n",
       "      <td>False</td>\n",
       "    </tr>\n",
       "    <tr>\n",
       "      <th>...</th>\n",
       "      <td>...</td>\n",
       "      <td>...</td>\n",
       "      <td>...</td>\n",
       "      <td>...</td>\n",
       "      <td>...</td>\n",
       "      <td>...</td>\n",
       "      <td>...</td>\n",
       "    </tr>\n",
       "    <tr>\n",
       "      <th>1856</th>\n",
       "      <td>Person and Vehicle search</td>\n",
       "      <td>2021-01-31T04:57:54+00:00</td>\n",
       "      <td>Male</td>\n",
       "      <td>Misuse of Drugs Act 1971 (section 23)</td>\n",
       "      <td>A no further action disposal</td>\n",
       "      <td>False</td>\n",
       "      <td>False</td>\n",
       "    </tr>\n",
       "    <tr>\n",
       "      <th>1857</th>\n",
       "      <td>Person search</td>\n",
       "      <td>2021-01-31T05:16:15+00:00</td>\n",
       "      <td>Male</td>\n",
       "      <td>Police and Criminal Evidence Act 1984 (section 1)</td>\n",
       "      <td>A no further action disposal</td>\n",
       "      <td>False</td>\n",
       "      <td>False</td>\n",
       "    </tr>\n",
       "    <tr>\n",
       "      <th>1858</th>\n",
       "      <td>Person and Vehicle search</td>\n",
       "      <td>2021-01-31T09:03:40+00:00</td>\n",
       "      <td>Female</td>\n",
       "      <td>Misuse of Drugs Act 1971 (section 23)</td>\n",
       "      <td>A no further action disposal</td>\n",
       "      <td>False</td>\n",
       "      <td>False</td>\n",
       "    </tr>\n",
       "    <tr>\n",
       "      <th>1859</th>\n",
       "      <td>Person search</td>\n",
       "      <td>2021-01-31T09:28:54+00:00</td>\n",
       "      <td>Female</td>\n",
       "      <td>Misuse of Drugs Act 1971 (section 23)</td>\n",
       "      <td>A no further action disposal</td>\n",
       "      <td>False</td>\n",
       "      <td>False</td>\n",
       "    </tr>\n",
       "    <tr>\n",
       "      <th>1860</th>\n",
       "      <td>Person search</td>\n",
       "      <td>2021-01-31T10:51:46+00:00</td>\n",
       "      <td>Male</td>\n",
       "      <td>Misuse of Drugs Act 1971 (section 23)</td>\n",
       "      <td>A no further action disposal</td>\n",
       "      <td>False</td>\n",
       "      <td>False</td>\n",
       "    </tr>\n",
       "  </tbody>\n",
       "</table>\n",
       "<p>1861 rows × 7 columns</p>\n",
       "</div>"
      ],
      "text/plain": [
       "                           Type                       Date  Gender  \\\n",
       "0                 Person search  2020-07-01T02:16:55+00:00    Male   \n",
       "1                 Person search  2020-07-01T02:16:55+00:00    Male   \n",
       "2     Person and Vehicle search  2020-07-01T03:10:05+00:00  Female   \n",
       "3     Person and Vehicle search  2020-07-01T03:10:05+00:00  Female   \n",
       "4                 Person search  2020-07-01T03:16:33+00:00    Male   \n",
       "...                         ...                        ...     ...   \n",
       "1856  Person and Vehicle search  2021-01-31T04:57:54+00:00    Male   \n",
       "1857              Person search  2021-01-31T05:16:15+00:00    Male   \n",
       "1858  Person and Vehicle search  2021-01-31T09:03:40+00:00  Female   \n",
       "1859              Person search  2021-01-31T09:28:54+00:00  Female   \n",
       "1860              Person search  2021-01-31T10:51:46+00:00    Male   \n",
       "\n",
       "                                            Legislation  \\\n",
       "0                 Misuse of Drugs Act 1971 (section 23)   \n",
       "1                 Misuse of Drugs Act 1971 (section 23)   \n",
       "2                 Misuse of Drugs Act 1971 (section 23)   \n",
       "3                 Misuse of Drugs Act 1971 (section 23)   \n",
       "4                 Misuse of Drugs Act 1971 (section 23)   \n",
       "...                                                 ...   \n",
       "1856              Misuse of Drugs Act 1971 (section 23)   \n",
       "1857  Police and Criminal Evidence Act 1984 (section 1)   \n",
       "1858              Misuse of Drugs Act 1971 (section 23)   \n",
       "1859              Misuse of Drugs Act 1971 (section 23)   \n",
       "1860              Misuse of Drugs Act 1971 (section 23)   \n",
       "\n",
       "                           Outcome  Outcome linked to object of search  \\\n",
       "0     A no further action disposal                               False   \n",
       "1     A no further action disposal                               False   \n",
       "2                           Arrest                                True   \n",
       "3                           Arrest                                True   \n",
       "4                           Arrest                                True   \n",
       "...                            ...                                 ...   \n",
       "1856  A no further action disposal                               False   \n",
       "1857  A no further action disposal                               False   \n",
       "1858  A no further action disposal                               False   \n",
       "1859  A no further action disposal                               False   \n",
       "1860  A no further action disposal                               False   \n",
       "\n",
       "      Removal of more than just outer clothing  \n",
       "0                                        False  \n",
       "1                                        False  \n",
       "2                                        False  \n",
       "3                                        False  \n",
       "4                                        False  \n",
       "...                                        ...  \n",
       "1856                                     False  \n",
       "1857                                     False  \n",
       "1858                                     False  \n",
       "1859                                     False  \n",
       "1860                                     False  \n",
       "\n",
       "[1861 rows x 7 columns]"
      ]
     },
     "execution_count": 55,
     "metadata": {},
     "output_type": "execute_result"
    }
   ],
   "source": [
    "df_updated= df.dropna(axis = 1)\n",
    "df_updated"
   ]
  },
  {
   "cell_type": "code",
   "execution_count": 59,
   "metadata": {},
   "outputs": [
    {
     "data": {
      "text/plain": [
       "Index(['Type', 'Gender', 'Legislation', 'Outcome',\n",
       "       'Outcome linked to object of search',\n",
       "       'Removal of more than just outer clothing'],\n",
       "      dtype='object')"
      ]
     },
     "execution_count": 59,
     "metadata": {},
     "output_type": "execute_result"
    }
   ],
   "source": [
    "df_updated = df_updated.drop(columns=['Date'])\n",
    "df_updated.columns"
   ]
  },
  {
   "cell_type": "code",
   "execution_count": 72,
   "metadata": {},
   "outputs": [],
   "source": [
    "from sklearn import preprocessing \n",
    "label = preprocessing.LabelEncoder() \n",
    "cols=['Type', 'Gender', 'Legislation', 'Outcome',\n",
    "       'Outcome linked to object of search',\n",
    "       'Removal of more than just outer clothing']\n",
    "df_updated_st[cols] = df[cols].astype(str)\n",
    "df1_lc[cols] = df_updated_st[cols].apply(preprocessing.LabelEncoder().fit_transform)"
   ]
  },
  {
   "cell_type": "code",
   "execution_count": 73,
   "metadata": {},
   "outputs": [
    {
     "data": {
      "text/html": [
       "<div>\n",
       "<style scoped>\n",
       "    .dataframe tbody tr th:only-of-type {\n",
       "        vertical-align: middle;\n",
       "    }\n",
       "\n",
       "    .dataframe tbody tr th {\n",
       "        vertical-align: top;\n",
       "    }\n",
       "\n",
       "    .dataframe thead th {\n",
       "        text-align: right;\n",
       "    }\n",
       "</style>\n",
       "<table border=\"1\" class=\"dataframe\">\n",
       "  <thead>\n",
       "    <tr style=\"text-align: right;\">\n",
       "      <th></th>\n",
       "      <th>Type</th>\n",
       "      <th>Gender</th>\n",
       "      <th>Legislation</th>\n",
       "      <th>Outcome</th>\n",
       "      <th>Outcome linked to object of search</th>\n",
       "      <th>Removal of more than just outer clothing</th>\n",
       "    </tr>\n",
       "  </thead>\n",
       "  <tbody>\n",
       "    <tr>\n",
       "      <th>0</th>\n",
       "      <td>1</td>\n",
       "      <td>1</td>\n",
       "      <td>1</td>\n",
       "      <td>0</td>\n",
       "      <td>0</td>\n",
       "      <td>0</td>\n",
       "    </tr>\n",
       "    <tr>\n",
       "      <th>1</th>\n",
       "      <td>1</td>\n",
       "      <td>1</td>\n",
       "      <td>1</td>\n",
       "      <td>0</td>\n",
       "      <td>0</td>\n",
       "      <td>0</td>\n",
       "    </tr>\n",
       "    <tr>\n",
       "      <th>2</th>\n",
       "      <td>0</td>\n",
       "      <td>0</td>\n",
       "      <td>1</td>\n",
       "      <td>1</td>\n",
       "      <td>1</td>\n",
       "      <td>0</td>\n",
       "    </tr>\n",
       "    <tr>\n",
       "      <th>3</th>\n",
       "      <td>0</td>\n",
       "      <td>0</td>\n",
       "      <td>1</td>\n",
       "      <td>1</td>\n",
       "      <td>1</td>\n",
       "      <td>0</td>\n",
       "    </tr>\n",
       "    <tr>\n",
       "      <th>4</th>\n",
       "      <td>1</td>\n",
       "      <td>1</td>\n",
       "      <td>1</td>\n",
       "      <td>1</td>\n",
       "      <td>1</td>\n",
       "      <td>0</td>\n",
       "    </tr>\n",
       "    <tr>\n",
       "      <th>...</th>\n",
       "      <td>...</td>\n",
       "      <td>...</td>\n",
       "      <td>...</td>\n",
       "      <td>...</td>\n",
       "      <td>...</td>\n",
       "      <td>...</td>\n",
       "    </tr>\n",
       "    <tr>\n",
       "      <th>1856</th>\n",
       "      <td>0</td>\n",
       "      <td>1</td>\n",
       "      <td>1</td>\n",
       "      <td>0</td>\n",
       "      <td>0</td>\n",
       "      <td>0</td>\n",
       "    </tr>\n",
       "    <tr>\n",
       "      <th>1857</th>\n",
       "      <td>1</td>\n",
       "      <td>1</td>\n",
       "      <td>2</td>\n",
       "      <td>0</td>\n",
       "      <td>0</td>\n",
       "      <td>0</td>\n",
       "    </tr>\n",
       "    <tr>\n",
       "      <th>1858</th>\n",
       "      <td>0</td>\n",
       "      <td>0</td>\n",
       "      <td>1</td>\n",
       "      <td>0</td>\n",
       "      <td>0</td>\n",
       "      <td>0</td>\n",
       "    </tr>\n",
       "    <tr>\n",
       "      <th>1859</th>\n",
       "      <td>1</td>\n",
       "      <td>0</td>\n",
       "      <td>1</td>\n",
       "      <td>0</td>\n",
       "      <td>0</td>\n",
       "      <td>0</td>\n",
       "    </tr>\n",
       "    <tr>\n",
       "      <th>1860</th>\n",
       "      <td>1</td>\n",
       "      <td>1</td>\n",
       "      <td>1</td>\n",
       "      <td>0</td>\n",
       "      <td>0</td>\n",
       "      <td>0</td>\n",
       "    </tr>\n",
       "  </tbody>\n",
       "</table>\n",
       "<p>1861 rows × 6 columns</p>\n",
       "</div>"
      ],
      "text/plain": [
       "      Type  Gender  Legislation  Outcome  Outcome linked to object of search  \\\n",
       "0        1       1            1        0                                   0   \n",
       "1        1       1            1        0                                   0   \n",
       "2        0       0            1        1                                   1   \n",
       "3        0       0            1        1                                   1   \n",
       "4        1       1            1        1                                   1   \n",
       "...    ...     ...          ...      ...                                 ...   \n",
       "1856     0       1            1        0                                   0   \n",
       "1857     1       1            2        0                                   0   \n",
       "1858     0       0            1        0                                   0   \n",
       "1859     1       0            1        0                                   0   \n",
       "1860     1       1            1        0                                   0   \n",
       "\n",
       "      Removal of more than just outer clothing  \n",
       "0                                            0  \n",
       "1                                            0  \n",
       "2                                            0  \n",
       "3                                            0  \n",
       "4                                            0  \n",
       "...                                        ...  \n",
       "1856                                         0  \n",
       "1857                                         0  \n",
       "1858                                         0  \n",
       "1859                                         0  \n",
       "1860                                         0  \n",
       "\n",
       "[1861 rows x 6 columns]"
      ]
     },
     "execution_count": 73,
     "metadata": {},
     "output_type": "execute_result"
    }
   ],
   "source": [
    "df1_lc"
   ]
  },
  {
   "cell_type": "code",
   "execution_count": 74,
   "metadata": {},
   "outputs": [
    {
     "name": "stdout",
     "output_type": "stream",
     "text": [
      "1    1418\n",
      "0     443\n",
      "Name: Type, dtype: int64\n",
      "1    1663\n",
      "0     198\n",
      "Name: Gender, dtype: int64\n",
      "1    1174\n",
      "2     679\n",
      "0       8\n",
      "Name: Legislation, dtype: int64\n",
      "0    1397\n",
      "1     306\n",
      "4     123\n",
      "6      11\n",
      "3      10\n",
      "5       8\n",
      "2       6\n",
      "Name: Outcome, dtype: int64\n",
      "0    1264\n",
      "1     597\n",
      "Name: Outcome linked to object of search, dtype: int64\n",
      "0    1813\n",
      "1      48\n",
      "Name: Removal of more than just outer clothing, dtype: int64\n"
     ]
    }
   ],
   "source": [
    "for col in df1_lc.columns:\n",
    "    print(df1_lc[col].value_counts())"
   ]
  },
  {
   "cell_type": "code",
   "execution_count": 76,
   "metadata": {},
   "outputs": [],
   "source": [
    "cols = ['Legislation','Gender']\n",
    "from sklearn.preprocessing import OneHotEncoder\n",
    "ohe_arr = OneHotEncoder().fit_transform(df1_lc[cols]).toarray()"
   ]
  },
  {
   "cell_type": "code",
   "execution_count": 77,
   "metadata": {},
   "outputs": [
    {
     "data": {
      "text/plain": [
       "array([[0., 1., 0., 0., 1.],\n",
       "       [0., 1., 0., 0., 1.],\n",
       "       [0., 1., 0., 1., 0.],\n",
       "       ...,\n",
       "       [0., 1., 0., 1., 0.],\n",
       "       [0., 1., 0., 1., 0.],\n",
       "       [0., 1., 0., 0., 1.]])"
      ]
     },
     "execution_count": 77,
     "metadata": {},
     "output_type": "execute_result"
    }
   ],
   "source": [
    "ohe_arr"
   ]
  },
  {
   "cell_type": "code",
   "execution_count": 78,
   "metadata": {},
   "outputs": [],
   "source": [
    "data_hot_encoded = pd.DataFrame(ohe_arr, index=df1_lc.index)\n",
    "\n",
    "#Extract only the columns that didnt need to be encoded\n",
    "data_other_cols = df1_lc.drop(columns=cols)\n",
    "\n",
    "#Concatenate the two dataframes : \n",
    "data_out = pd.concat([data_hot_encoded, data_other_cols], axis=1)"
   ]
  },
  {
   "cell_type": "code",
   "execution_count": 79,
   "metadata": {},
   "outputs": [
    {
     "data": {
      "text/html": [
       "<div>\n",
       "<style scoped>\n",
       "    .dataframe tbody tr th:only-of-type {\n",
       "        vertical-align: middle;\n",
       "    }\n",
       "\n",
       "    .dataframe tbody tr th {\n",
       "        vertical-align: top;\n",
       "    }\n",
       "\n",
       "    .dataframe thead th {\n",
       "        text-align: right;\n",
       "    }\n",
       "</style>\n",
       "<table border=\"1\" class=\"dataframe\">\n",
       "  <thead>\n",
       "    <tr style=\"text-align: right;\">\n",
       "      <th></th>\n",
       "      <th>0</th>\n",
       "      <th>1</th>\n",
       "      <th>2</th>\n",
       "      <th>3</th>\n",
       "      <th>4</th>\n",
       "      <th>Type</th>\n",
       "      <th>Outcome</th>\n",
       "      <th>Outcome linked to object of search</th>\n",
       "      <th>Removal of more than just outer clothing</th>\n",
       "    </tr>\n",
       "  </thead>\n",
       "  <tbody>\n",
       "    <tr>\n",
       "      <th>0</th>\n",
       "      <td>0.0</td>\n",
       "      <td>1.0</td>\n",
       "      <td>0.0</td>\n",
       "      <td>0.0</td>\n",
       "      <td>1.0</td>\n",
       "      <td>1</td>\n",
       "      <td>0</td>\n",
       "      <td>0</td>\n",
       "      <td>0</td>\n",
       "    </tr>\n",
       "    <tr>\n",
       "      <th>1</th>\n",
       "      <td>0.0</td>\n",
       "      <td>1.0</td>\n",
       "      <td>0.0</td>\n",
       "      <td>0.0</td>\n",
       "      <td>1.0</td>\n",
       "      <td>1</td>\n",
       "      <td>0</td>\n",
       "      <td>0</td>\n",
       "      <td>0</td>\n",
       "    </tr>\n",
       "    <tr>\n",
       "      <th>2</th>\n",
       "      <td>0.0</td>\n",
       "      <td>1.0</td>\n",
       "      <td>0.0</td>\n",
       "      <td>1.0</td>\n",
       "      <td>0.0</td>\n",
       "      <td>0</td>\n",
       "      <td>1</td>\n",
       "      <td>1</td>\n",
       "      <td>0</td>\n",
       "    </tr>\n",
       "    <tr>\n",
       "      <th>3</th>\n",
       "      <td>0.0</td>\n",
       "      <td>1.0</td>\n",
       "      <td>0.0</td>\n",
       "      <td>1.0</td>\n",
       "      <td>0.0</td>\n",
       "      <td>0</td>\n",
       "      <td>1</td>\n",
       "      <td>1</td>\n",
       "      <td>0</td>\n",
       "    </tr>\n",
       "    <tr>\n",
       "      <th>4</th>\n",
       "      <td>0.0</td>\n",
       "      <td>1.0</td>\n",
       "      <td>0.0</td>\n",
       "      <td>0.0</td>\n",
       "      <td>1.0</td>\n",
       "      <td>1</td>\n",
       "      <td>1</td>\n",
       "      <td>1</td>\n",
       "      <td>0</td>\n",
       "    </tr>\n",
       "    <tr>\n",
       "      <th>...</th>\n",
       "      <td>...</td>\n",
       "      <td>...</td>\n",
       "      <td>...</td>\n",
       "      <td>...</td>\n",
       "      <td>...</td>\n",
       "      <td>...</td>\n",
       "      <td>...</td>\n",
       "      <td>...</td>\n",
       "      <td>...</td>\n",
       "    </tr>\n",
       "    <tr>\n",
       "      <th>1856</th>\n",
       "      <td>0.0</td>\n",
       "      <td>1.0</td>\n",
       "      <td>0.0</td>\n",
       "      <td>0.0</td>\n",
       "      <td>1.0</td>\n",
       "      <td>0</td>\n",
       "      <td>0</td>\n",
       "      <td>0</td>\n",
       "      <td>0</td>\n",
       "    </tr>\n",
       "    <tr>\n",
       "      <th>1857</th>\n",
       "      <td>0.0</td>\n",
       "      <td>0.0</td>\n",
       "      <td>1.0</td>\n",
       "      <td>0.0</td>\n",
       "      <td>1.0</td>\n",
       "      <td>1</td>\n",
       "      <td>0</td>\n",
       "      <td>0</td>\n",
       "      <td>0</td>\n",
       "    </tr>\n",
       "    <tr>\n",
       "      <th>1858</th>\n",
       "      <td>0.0</td>\n",
       "      <td>1.0</td>\n",
       "      <td>0.0</td>\n",
       "      <td>1.0</td>\n",
       "      <td>0.0</td>\n",
       "      <td>0</td>\n",
       "      <td>0</td>\n",
       "      <td>0</td>\n",
       "      <td>0</td>\n",
       "    </tr>\n",
       "    <tr>\n",
       "      <th>1859</th>\n",
       "      <td>0.0</td>\n",
       "      <td>1.0</td>\n",
       "      <td>0.0</td>\n",
       "      <td>1.0</td>\n",
       "      <td>0.0</td>\n",
       "      <td>1</td>\n",
       "      <td>0</td>\n",
       "      <td>0</td>\n",
       "      <td>0</td>\n",
       "    </tr>\n",
       "    <tr>\n",
       "      <th>1860</th>\n",
       "      <td>0.0</td>\n",
       "      <td>1.0</td>\n",
       "      <td>0.0</td>\n",
       "      <td>0.0</td>\n",
       "      <td>1.0</td>\n",
       "      <td>1</td>\n",
       "      <td>0</td>\n",
       "      <td>0</td>\n",
       "      <td>0</td>\n",
       "    </tr>\n",
       "  </tbody>\n",
       "</table>\n",
       "<p>1861 rows × 9 columns</p>\n",
       "</div>"
      ],
      "text/plain": [
       "        0    1    2    3    4  Type  Outcome  \\\n",
       "0     0.0  1.0  0.0  0.0  1.0     1        0   \n",
       "1     0.0  1.0  0.0  0.0  1.0     1        0   \n",
       "2     0.0  1.0  0.0  1.0  0.0     0        1   \n",
       "3     0.0  1.0  0.0  1.0  0.0     0        1   \n",
       "4     0.0  1.0  0.0  0.0  1.0     1        1   \n",
       "...   ...  ...  ...  ...  ...   ...      ...   \n",
       "1856  0.0  1.0  0.0  0.0  1.0     0        0   \n",
       "1857  0.0  0.0  1.0  0.0  1.0     1        0   \n",
       "1858  0.0  1.0  0.0  1.0  0.0     0        0   \n",
       "1859  0.0  1.0  0.0  1.0  0.0     1        0   \n",
       "1860  0.0  1.0  0.0  0.0  1.0     1        0   \n",
       "\n",
       "      Outcome linked to object of search  \\\n",
       "0                                      0   \n",
       "1                                      0   \n",
       "2                                      1   \n",
       "3                                      1   \n",
       "4                                      1   \n",
       "...                                  ...   \n",
       "1856                                   0   \n",
       "1857                                   0   \n",
       "1858                                   0   \n",
       "1859                                   0   \n",
       "1860                                   0   \n",
       "\n",
       "      Removal of more than just outer clothing  \n",
       "0                                            0  \n",
       "1                                            0  \n",
       "2                                            0  \n",
       "3                                            0  \n",
       "4                                            0  \n",
       "...                                        ...  \n",
       "1856                                         0  \n",
       "1857                                         0  \n",
       "1858                                         0  \n",
       "1859                                         0  \n",
       "1860                                         0  \n",
       "\n",
       "[1861 rows x 9 columns]"
      ]
     },
     "execution_count": 79,
     "metadata": {},
     "output_type": "execute_result"
    }
   ],
   "source": [
    "data_out"
   ]
  },
  {
   "cell_type": "code",
   "execution_count": 80,
   "metadata": {},
   "outputs": [
    {
     "data": {
      "text/plain": [
       "(1861,)"
      ]
     },
     "execution_count": 80,
     "metadata": {},
     "output_type": "execute_result"
    }
   ],
   "source": [
    "target = data_out['Removal of more than just outer clothing']\n",
    "target.shape"
   ]
  },
  {
   "cell_type": "code",
   "execution_count": 108,
   "metadata": {},
   "outputs": [],
   "source": [
    "from sklearn.model_selection import train_test_split\n",
    "from sklearn.linear_model import LogisticRegression\n",
    "from sklearn.ensemble import RandomForestClassifier\n",
    "from sklearn.naive_bayes import GaussianNB\n",
    "from sklearn.metrics import accuracy_score\n",
    "from sklearn.svm import SVC\n",
    "\n",
    "X_train,X_test,y_train,y_test = train_test_split(data_out,target,test_size=0.75,random_state=0)\n",
    "classifier = LogisticRegression(random_state=12)\n",
    "classifier.fit(X_train, y_train)\n",
    "y_pred_LR = classifier.predict(X_test)"
   ]
  },
  {
   "cell_type": "code",
   "execution_count": 109,
   "metadata": {},
   "outputs": [
    {
     "data": {
      "text/plain": [
       "0.9849570200573066"
      ]
     },
     "execution_count": 109,
     "metadata": {},
     "output_type": "execute_result"
    }
   ],
   "source": [
    "accuracy_score(y_test, y_pred_LR)"
   ]
  },
  {
   "cell_type": "code",
   "execution_count": 110,
   "metadata": {},
   "outputs": [
    {
     "data": {
      "text/plain": [
       "1.0"
      ]
     },
     "execution_count": 110,
     "metadata": {},
     "output_type": "execute_result"
    }
   ],
   "source": [
    "rfc = RandomForestClassifier()\n",
    "rfc.fit(X_train,y_train)\n",
    "y_pred_rfc = rfc.predict(X_test)\n",
    "accuracy_score(y_test,y_pred_rfc)"
   ]
  },
  {
   "cell_type": "code",
   "execution_count": 111,
   "metadata": {},
   "outputs": [
    {
     "data": {
      "text/plain": [
       "0.9978510028653295"
      ]
     },
     "execution_count": 111,
     "metadata": {},
     "output_type": "execute_result"
    }
   ],
   "source": [
    "gnb = GaussianNB()\n",
    "gnb.fit(X_train, y_train)\n",
    "y_pred_NB = gnb.predict(X_test)\n",
    "accuracy_score(y_test,y_pred_NB)\n"
   ]
  },
  {
   "cell_type": "code",
   "execution_count": 112,
   "metadata": {},
   "outputs": [
    {
     "data": {
      "text/plain": [
       "0.9978510028653295"
      ]
     },
     "execution_count": 112,
     "metadata": {},
     "output_type": "execute_result"
    }
   ],
   "source": [
    "svc = SVC()\n",
    "svc.fit(X_train,y_train)\n",
    "y_pred_svc = svc.predict(X_test)\n",
    "accuracy_score(y_test,y_pred_svc)"
   ]
  },
  {
   "cell_type": "code",
   "execution_count": null,
   "metadata": {},
   "outputs": [],
   "source": []
  }
 ],
 "metadata": {
  "kernelspec": {
   "display_name": "Python 3",
   "language": "python",
   "name": "python3"
  },
  "language_info": {
   "codemirror_mode": {
    "name": "ipython",
    "version": 3
   },
   "file_extension": ".py",
   "mimetype": "text/x-python",
   "name": "python",
   "nbconvert_exporter": "python",
   "pygments_lexer": "ipython3",
   "version": "3.6.8"
  }
 },
 "nbformat": 4,
 "nbformat_minor": 2
}
